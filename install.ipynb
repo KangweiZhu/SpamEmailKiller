{
 "cells": [
  {
   "cell_type": "markdown",
   "id": "7a7894b2",
   "metadata": {},
   "source": [
    "⚠️: Prepare a venv that use python 3.11.  `python -m venv .venv` might be the most intuitive approach. Then just run `source .venv/bin/activate`. After that, run the following command. Also, make sure `npm` and `nodejs` are installed locally. You can check whether they have been installed by using `node -v` and `npm -v`. If not installed, please installed it before running any code block in this notebook.\n"
   ]
  },
  {
   "cell_type": "code",
   "execution_count": 1,
   "id": "cb3dadb2",
   "metadata": {},
   "outputs": [
    {
     "name": "stdout",
     "output_type": "stream",
     "text": [
      "Requirement already satisfied: altgraph==0.17.4 in ./.venv/lib/python3.11/site-packages (from -r requirements.txt (line 1)) (0.17.4)\n",
      "Requirement already satisfied: annotated-types==0.7.0 in ./.venv/lib/python3.11/site-packages (from -r requirements.txt (line 2)) (0.7.0)\n",
      "Requirement already satisfied: beautifulsoup4==4.13.3 in ./.venv/lib/python3.11/site-packages (from -r requirements.txt (line 3)) (4.13.3)\n",
      "Requirement already satisfied: blinker==1.9.0 in ./.venv/lib/python3.11/site-packages (from -r requirements.txt (line 4)) (1.9.0)\n",
      "Requirement already satisfied: cachetools==5.5.2 in ./.venv/lib/python3.11/site-packages (from -r requirements.txt (line 5)) (5.5.2)\n",
      "Requirement already satisfied: certifi==2025.4.26 in ./.venv/lib/python3.11/site-packages (from -r requirements.txt (line 6)) (2025.4.26)\n",
      "Requirement already satisfied: charset-normalizer==3.4.2 in ./.venv/lib/python3.11/site-packages (from -r requirements.txt (line 7)) (3.4.2)\n",
      "Requirement already satisfied: click==8.1.8 in ./.venv/lib/python3.11/site-packages (from -r requirements.txt (line 8)) (8.1.8)\n",
      "Requirement already satisfied: contourpy==1.3.2 in ./.venv/lib/python3.11/site-packages (from -r requirements.txt (line 9)) (1.3.2)\n",
      "Requirement already satisfied: cycler==0.12.1 in ./.venv/lib/python3.11/site-packages (from -r requirements.txt (line 10)) (0.12.1)\n",
      "Requirement already satisfied: filelock==3.18.0 in ./.venv/lib/python3.11/site-packages (from -r requirements.txt (line 11)) (3.18.0)\n",
      "Requirement already satisfied: Flask==3.1.0 in ./.venv/lib/python3.11/site-packages (from -r requirements.txt (line 12)) (3.1.0)\n",
      "Requirement already satisfied: flask-cors==5.0.1 in ./.venv/lib/python3.11/site-packages (from -r requirements.txt (line 13)) (5.0.1)\n",
      "Requirement already satisfied: fonttools==4.57.0 in ./.venv/lib/python3.11/site-packages (from -r requirements.txt (line 14)) (4.57.0)\n",
      "Requirement already satisfied: fsspec==2025.3.0 in ./.venv/lib/python3.11/site-packages (from -r requirements.txt (line 15)) (2025.3.0)\n",
      "Requirement already satisfied: google-ai-generativelanguage==0.6.15 in ./.venv/lib/python3.11/site-packages (from -r requirements.txt (line 16)) (0.6.15)\n",
      "Requirement already satisfied: google-api-core==2.24.2 in ./.venv/lib/python3.11/site-packages (from -r requirements.txt (line 17)) (2.24.2)\n",
      "Requirement already satisfied: google-api-python-client==2.169.0 in ./.venv/lib/python3.11/site-packages (from -r requirements.txt (line 18)) (2.169.0)\n",
      "Requirement already satisfied: google-auth==2.40.0 in ./.venv/lib/python3.11/site-packages (from -r requirements.txt (line 19)) (2.40.0)\n",
      "Requirement already satisfied: google-auth-httplib2==0.2.0 in ./.venv/lib/python3.11/site-packages (from -r requirements.txt (line 20)) (0.2.0)\n",
      "Requirement already satisfied: google-generativeai==0.8.5 in ./.venv/lib/python3.11/site-packages (from -r requirements.txt (line 21)) (0.8.5)\n",
      "Requirement already satisfied: googleapis-common-protos==1.70.0 in ./.venv/lib/python3.11/site-packages (from -r requirements.txt (line 22)) (1.70.0)\n",
      "Requirement already satisfied: grpcio==1.71.0 in ./.venv/lib/python3.11/site-packages (from -r requirements.txt (line 23)) (1.71.0)\n",
      "Requirement already satisfied: grpcio-status==1.71.0 in ./.venv/lib/python3.11/site-packages (from -r requirements.txt (line 24)) (1.71.0)\n",
      "Requirement already satisfied: httplib2==0.22.0 in ./.venv/lib/python3.11/site-packages (from -r requirements.txt (line 25)) (0.22.0)\n",
      "Requirement already satisfied: huggingface-hub==0.29.3 in ./.venv/lib/python3.11/site-packages (from -r requirements.txt (line 26)) (0.29.3)\n",
      "Requirement already satisfied: idna==3.10 in ./.venv/lib/python3.11/site-packages (from -r requirements.txt (line 27)) (3.10)\n",
      "Requirement already satisfied: itsdangerous==2.2.0 in ./.venv/lib/python3.11/site-packages (from -r requirements.txt (line 28)) (2.2.0)\n",
      "Requirement already satisfied: Jinja2==3.1.6 in ./.venv/lib/python3.11/site-packages (from -r requirements.txt (line 29)) (3.1.6)\n",
      "Requirement already satisfied: joblib==1.5.0 in ./.venv/lib/python3.11/site-packages (from -r requirements.txt (line 30)) (1.5.0)\n",
      "Requirement already satisfied: kiwisolver==1.4.8 in ./.venv/lib/python3.11/site-packages (from -r requirements.txt (line 31)) (1.4.8)\n",
      "Requirement already satisfied: macholib==1.16.3 in ./.venv/lib/python3.11/site-packages (from -r requirements.txt (line 32)) (1.16.3)\n",
      "Requirement already satisfied: MarkupSafe==3.0.2 in ./.venv/lib/python3.11/site-packages (from -r requirements.txt (line 33)) (3.0.2)\n",
      "Requirement already satisfied: matplotlib==3.10.1 in ./.venv/lib/python3.11/site-packages (from -r requirements.txt (line 34)) (3.10.1)\n",
      "Requirement already satisfied: nltk==3.9.1 in ./.venv/lib/python3.11/site-packages (from -r requirements.txt (line 35)) (3.9.1)\n",
      "Requirement already satisfied: numpy==2.2.5 in ./.venv/lib/python3.11/site-packages (from -r requirements.txt (line 36)) (2.2.5)\n",
      "Requirement already satisfied: packaging==25.0 in ./.venv/lib/python3.11/site-packages (from -r requirements.txt (line 37)) (25.0)\n",
      "Requirement already satisfied: pandas==2.2.3 in ./.venv/lib/python3.11/site-packages (from -r requirements.txt (line 38)) (2.2.3)\n",
      "Requirement already satisfied: pillow==11.2.1 in ./.venv/lib/python3.11/site-packages (from -r requirements.txt (line 39)) (11.2.1)\n",
      "Requirement already satisfied: proto-plus==1.26.1 in ./.venv/lib/python3.11/site-packages (from -r requirements.txt (line 40)) (1.26.1)\n",
      "Requirement already satisfied: protobuf==5.29.4 in ./.venv/lib/python3.11/site-packages (from -r requirements.txt (line 41)) (5.29.4)\n",
      "Requirement already satisfied: pyasn1==0.6.1 in ./.venv/lib/python3.11/site-packages (from -r requirements.txt (line 42)) (0.6.1)\n",
      "Requirement already satisfied: pyasn1_modules==0.4.2 in ./.venv/lib/python3.11/site-packages (from -r requirements.txt (line 43)) (0.4.2)\n",
      "Requirement already satisfied: pydantic==2.11.4 in ./.venv/lib/python3.11/site-packages (from -r requirements.txt (line 44)) (2.11.4)\n",
      "Requirement already satisfied: pydantic_core==2.33.2 in ./.venv/lib/python3.11/site-packages (from -r requirements.txt (line 45)) (2.33.2)\n",
      "Requirement already satisfied: pyinstaller==6.13.0 in ./.venv/lib/python3.11/site-packages (from -r requirements.txt (line 46)) (6.13.0)\n",
      "Requirement already satisfied: pyinstaller-hooks-contrib==2025.4 in ./.venv/lib/python3.11/site-packages (from -r requirements.txt (line 47)) (2025.4)\n",
      "Requirement already satisfied: pyparsing==3.2.3 in ./.venv/lib/python3.11/site-packages (from -r requirements.txt (line 48)) (3.2.3)\n",
      "Requirement already satisfied: python-dateutil==2.9.0.post0 in ./.venv/lib/python3.11/site-packages (from -r requirements.txt (line 49)) (2.9.0.post0)\n",
      "Requirement already satisfied: pytz==2025.2 in ./.venv/lib/python3.11/site-packages (from -r requirements.txt (line 50)) (2025.2)\n",
      "Requirement already satisfied: PyYAML==6.0.2 in ./.venv/lib/python3.11/site-packages (from -r requirements.txt (line 51)) (6.0.2)\n",
      "Requirement already satisfied: regex==2024.11.6 in ./.venv/lib/python3.11/site-packages (from -r requirements.txt (line 52)) (2024.11.6)\n",
      "Requirement already satisfied: requests==2.32.3 in ./.venv/lib/python3.11/site-packages (from -r requirements.txt (line 53)) (2.32.3)\n",
      "Requirement already satisfied: rsa==4.9.1 in ./.venv/lib/python3.11/site-packages (from -r requirements.txt (line 54)) (4.9.1)\n",
      "Requirement already satisfied: scikit-learn==1.6.1 in ./.venv/lib/python3.11/site-packages (from -r requirements.txt (line 55)) (1.6.1)\n",
      "Requirement already satisfied: scipy==1.15.2 in ./.venv/lib/python3.11/site-packages (from -r requirements.txt (line 56)) (1.15.2)\n",
      "Requirement already satisfied: seaborn==0.13.2 in ./.venv/lib/python3.11/site-packages (from -r requirements.txt (line 57)) (0.13.2)\n",
      "Requirement already satisfied: six==1.17.0 in ./.venv/lib/python3.11/site-packages (from -r requirements.txt (line 58)) (1.17.0)\n",
      "Requirement already satisfied: soupsieve==2.6 in ./.venv/lib/python3.11/site-packages (from -r requirements.txt (line 59)) (2.6)\n",
      "Requirement already satisfied: threadpoolctl==3.6.0 in ./.venv/lib/python3.11/site-packages (from -r requirements.txt (line 60)) (3.6.0)\n",
      "Requirement already satisfied: tqdm==4.67.1 in ./.venv/lib/python3.11/site-packages (from -r requirements.txt (line 61)) (4.67.1)\n",
      "Requirement already satisfied: typing-inspection==0.4.0 in ./.venv/lib/python3.11/site-packages (from -r requirements.txt (line 62)) (0.4.0)\n",
      "Requirement already satisfied: typing_extensions==4.13.0 in ./.venv/lib/python3.11/site-packages (from -r requirements.txt (line 63)) (4.13.0)\n",
      "Requirement already satisfied: tzdata==2025.2 in ./.venv/lib/python3.11/site-packages (from -r requirements.txt (line 64)) (2025.2)\n",
      "Requirement already satisfied: uritemplate==4.1.1 in ./.venv/lib/python3.11/site-packages (from -r requirements.txt (line 65)) (4.1.1)\n",
      "Requirement already satisfied: urllib3==2.4.0 in ./.venv/lib/python3.11/site-packages (from -r requirements.txt (line 66)) (2.4.0)\n",
      "Requirement already satisfied: Werkzeug==3.1.3 in ./.venv/lib/python3.11/site-packages (from -r requirements.txt (line 67)) (3.1.3)\n",
      "Requirement already satisfied: setuptools>=42.0.0 in ./.venv/lib/python3.11/site-packages (from pyinstaller==6.13.0->-r requirements.txt (line 46)) (65.5.0)\n",
      "\n",
      "\u001b[1m[\u001b[0m\u001b[34;49mnotice\u001b[0m\u001b[1;39;49m]\u001b[0m\u001b[39;49m A new release of pip available: \u001b[0m\u001b[31;49m22.3\u001b[0m\u001b[39;49m -> \u001b[0m\u001b[32;49m25.1.1\u001b[0m\n",
      "\u001b[1m[\u001b[0m\u001b[34;49mnotice\u001b[0m\u001b[1;39;49m]\u001b[0m\u001b[39;49m To update, run: \u001b[0m\u001b[32;49mpip install --upgrade pip\u001b[0m\n",
      "Note: you may need to restart the kernel to use updated packages.\n"
     ]
    }
   ],
   "source": [
    "%pip install -r requirements.txt"
   ]
  },
  {
   "cell_type": "code",
   "execution_count": 2,
   "id": "5472f1d1",
   "metadata": {},
   "outputs": [],
   "source": [
    "import subprocess\n",
    "import os\n",
    "\n",
    "log_path = \"spamemailkiller-app/backend/spam_api.log\"\n",
    "os.makedirs(os.path.dirname(log_path), exist_ok=True)\n",
    "\n",
    "with open(log_path, \"w\") as f:\n",
    "    subprocess.Popen(\n",
    "        [\"python\", \"spamemailkiller-app/backend/spam_api.py\"],\n",
    "        stdout=f,\n",
    "        stderr=subprocess.STDOUT\n",
    "    )\n"
   ]
  },
  {
   "cell_type": "code",
   "execution_count": null,
   "id": "e8a7b38c",
   "metadata": {},
   "outputs": [
    {
     "name": "stdout",
     "output_type": "stream",
     "text": [
      "\n",
      "up to date, audited 232 packages in 1s\n",
      "\n",
      "48 packages are looking for funding\n",
      "  run `npm fund` for details\n",
      "\n",
      "found 0 vulnerabilities\n"
     ]
    }
   ],
   "source": [
    "import subprocess\n",
    "import os\n",
    "\n",
    "os.chdir(\"spamemailkiller-app/frontend\")\n",
    "\n",
    "subprocess.run([\"npm\", \"install\"], check=True)\n",
    "\n",
    "with open(\"frontend.log\", \"w\") as f:\n",
    "    subprocess.Popen([\"npm\", \"run\", \"dev\"], stdout=f, stderr=subprocess.STDOUT)\n"
   ]
  },
  {
   "cell_type": "markdown",
   "id": "6943e83f",
   "metadata": {},
   "source": [
    "Now open any of your browser and enter http://localhost:5173 . You can use this spamemaifilter right away."
   ]
  }
 ],
 "metadata": {
  "kernelspec": {
   "display_name": ".venv",
   "language": "python",
   "name": "python3"
  },
  "language_info": {
   "codemirror_mode": {
    "name": "ipython",
    "version": 3
   },
   "file_extension": ".py",
   "mimetype": "text/x-python",
   "name": "python",
   "nbconvert_exporter": "python",
   "pygments_lexer": "ipython3",
   "version": "3.11.0"
  }
 },
 "nbformat": 4,
 "nbformat_minor": 5
}
